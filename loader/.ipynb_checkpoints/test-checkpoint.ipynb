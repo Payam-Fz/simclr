{
 "cells": [
  {
   "cell_type": "code",
   "execution_count": 9,
   "metadata": {},
   "outputs": [],
   "source": [
    "# from mimic_cxr_jpg_loader import MIMIC_CXR_JPG_Loader\n",
    "import os\n",
    "import gzip\n",
    "import pandas as pd\n",
    "\n",
    "data_folder = '../data/physionet.org/files/mimic-cxr-jpg/2.0.0/files'\n",
    "csv_folder = '../data/physionet.org/files/mimic-cxr-jpg/2.0.0'\n",
    "chexpert_csv_file = 'mimic-cxr-2.0.0-chexpert.csv.gz'"
   ]
  },
  {
   "cell_type": "code",
   "execution_count": 35,
   "metadata": {},
   "outputs": [
    {
     "data": {
      "text/plain": [
       "1.0"
      ]
     },
     "execution_count": 35,
     "metadata": {},
     "output_type": "execute_result"
    }
   ],
   "source": [
    "with gzip.open(os.path.join(csv_folder, chexpert_csv_file), 'rt') as file:\n",
    "    label_csv = pd.read_csv(file)\n",
    "    labels_df = label_csv[(label_csv['subject_id'] == 10000032) & (label_csv['study_id'] == 50414267)]\n",
    "    labels = labels_df.values.flatten()\n",
    "    #labels_dict = labels_df.to_dict(orient='records')[0]\n",
    "assert(labels_df.shape[0] == 1)\n",
    "labels_df.loc[0, 'No Finding']\n",
    "#label_csv['subject_id']"
   ]
  },
  {
   "cell_type": "code",
   "execution_count": null,
   "metadata": {},
   "outputs": [],
   "source": [
    "#################### Test dataset loader ####################\n",
    "from mimic_cxr_jpg_loader import MIMIC_CXR_JPG_Loader\n",
    "\n",
    "myCustomDataLoader = MIMIC_CXR_JPG_Loader({'train': 10, 'validation': 10, 'test': 10})\n",
    "train_dataset, val_dataset, test_dataset = myCustomDataLoader.load()\n",
    "\n",
    "# Accessing information\n",
    "num_train_images = train_dataset.cardinality().numpy()\n",
    "# num_classes = myCustomDataLoader.label_csv.shape[1] - 2  # excluding subject_id and study_id\n",
    "\n",
    "# Accessing images and labels\n",
    "for image, label, info in train_dataset.take(1):\n",
    "    print(\"Image Shape:\", image.shape)\n",
    "    print(\"Label:\", label)\n",
    "    print(\"Info:\", info)"
   ]
  },
  {
   "cell_type": "code",
   "execution_count": null,
   "metadata": {},
   "outputs": [],
   "source": [
    "import tensorflow as tf\n",
    "\n",
    "# Example dataset creation\n",
    "dataset = tf.data.Dataset.range(10)  # Creating a simple dataset of integers from 0 to 9\n",
    "\n",
    "# Specify the index of the sample you want to retrieve\n",
    "sample_index = 3\n",
    "\n",
    "# Skip the samples before the desired index\n",
    "dataset = dataset.skip(sample_index)\n",
    "\n",
    "# Take only the next sample after skipping\n",
    "desired_sample = dataset.take(1)\n",
    "\n",
    "# Iterate over the dataset to retrieve the desired sample\n",
    "for sample in desired_sample:\n",
    "    print(sample.numpy())"
   ]
  },
  {
   "cell_type": "code",
   "execution_count": null,
   "metadata": {},
   "outputs": [],
   "source": []
  }
 ],
 "metadata": {
  "kernelspec": {
   "display_name": "Python [conda env:tensorenv] *",
   "language": "python",
   "name": "conda-env-tensorenv-py"
  },
  "language_info": {
   "codemirror_mode": {
    "name": "ipython",
    "version": 3
   },
   "file_extension": ".py",
   "mimetype": "text/x-python",
   "name": "python",
   "nbconvert_exporter": "python",
   "pygments_lexer": "ipython3",
   "version": "3.11.6"
  }
 },
 "nbformat": 4,
 "nbformat_minor": 4
}
